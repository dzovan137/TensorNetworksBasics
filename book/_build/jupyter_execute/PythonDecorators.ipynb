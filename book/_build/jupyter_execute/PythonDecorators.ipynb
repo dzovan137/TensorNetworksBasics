{
 "cells": [
  {
   "cell_type": "markdown",
   "id": "d512a3ac",
   "metadata": {},
   "source": [
    "# Python Decorators\n",
    "\n",
    "Here we introduce the concept of decorators, and provide two simple examples of usage. \n",
    "\n",
    "## 1. Timer"
   ]
  },
  {
   "cell_type": "code",
   "execution_count": 1,
   "id": "ea007686",
   "metadata": {},
   "outputs": [
    {
     "name": "stdout",
     "output_type": "stream",
     "text": [
      "Executed in: 0.047348737716674805 seconds\n"
     ]
    }
   ],
   "source": [
    "import time\n",
    "import numpy as np\n",
    "\n",
    "\n",
    "def timer(func):\n",
    "    def wrapper(*args, **kwargs):\n",
    "\n",
    "        before = time.time()\n",
    "        func(*args, **kwargs)\n",
    "        print(\"Executed in:\", time.time() - before, \"seconds\")\n",
    "\n",
    "    return wrapper\n",
    "\n",
    "\n",
    "@timer\n",
    "def diag(size: int):\n",
    "\n",
    "    # Generate a random symmetric matrix\n",
    "    A = np.random.rand(size, size)\n",
    "    A = (A + A.T) / 2  # Make the matrix symmetric\n",
    "\n",
    "    # Diagonalize using eigh (for Hermitian matrices)\n",
    "    eigenvalues, eigenvectors = np.linalg.eigh(A)\n",
    "\n",
    "\n",
    "diag(500)\n"
   ]
  },
  {
   "cell_type": "markdown",
   "id": "f5b8032a",
   "metadata": {},
   "source": [
    "## 2. Logger"
   ]
  },
  {
   "cell_type": "code",
   "execution_count": 2,
   "id": "d95e0de8",
   "metadata": {},
   "outputs": [
    {
     "name": "stdout",
     "output_type": "stream",
     "text": [
      "6\n"
     ]
    }
   ],
   "source": [
    "import datetime\n",
    "\n",
    "\n",
    "def log(func):\n",
    "    def wrapper(*args, **kwargs):\n",
    "        with open(\"logs.txt\", \"a\") as f:\n",
    "            f.write(\n",
    "                \"Called function with \"\n",
    "                + \" \".join([str(arg) for arg in args])\n",
    "                + \" at \"\n",
    "                + str(datetime.datetime.now())\n",
    "                + \"\\n\"\n",
    "            )\n",
    "            val = func(*args, **kwargs)\n",
    "            return val\n",
    "\n",
    "    return wrapper\n",
    "\n",
    "\n",
    "@log\n",
    "def run(a, b, c):\n",
    "    print(a + b + c)\n",
    "\n",
    "\n",
    "run(1, 2, 3)\n",
    "\n"
   ]
  }
 ],
 "metadata": {
  "jupytext": {
   "formats": "md:myst",
   "text_representation": {
    "extension": ".md",
    "format_name": "myst",
    "format_version": 0.13,
    "jupytext_version": "1.11.5"
   }
  },
  "kernelspec": {
   "display_name": "Python 3",
   "language": "python",
   "name": "python3"
  },
  "language_info": {
   "codemirror_mode": {
    "name": "ipython",
    "version": 3
   },
   "file_extension": ".py",
   "mimetype": "text/x-python",
   "name": "python",
   "nbconvert_exporter": "python",
   "pygments_lexer": "ipython3",
   "version": "3.10.13"
  },
  "source_map": [
   13,
   20,
   48,
   52
  ]
 },
 "nbformat": 4,
 "nbformat_minor": 5
}