{
 "cells": [
  {
   "cell_type": "markdown",
   "id": "17c379a6",
   "metadata": {},
   "source": [
    "# Lecture 2\n",
    "\n",
    "In this lecture we perform  tensor network contraction explicity\n",
    "- {ref}`manualcontraction`\n",
    "- {ref}`automaticcontraction`\n",
    "\n",
    "\n",
    "\n",
    "(manualcontraction)=\n",
    "## Binary Tensor Contraction\n",
    "\n",
    "Contraction algorithmically can be broken down to as series of steps. Lets look at the following example \n",
    "\n",
    "```{image} /images/lecture2fig1.png\n",
    ":alt: def\n",
    ":class: bg-primary mb-1\n",
    ":width: 700px\n",
    ":align: center\n",
    "```\n",
    "\n",
    "Before proceeding we create the tensors displayed above using python as"
   ]
  },
  {
   "cell_type": "code",
   "execution_count": 1,
   "id": "d39416e5",
   "metadata": {},
   "outputs": [],
   "source": [
    "# import the library that allows us to deal with arrays efficiently\n",
    "import numpy as np\n",
    "\n",
    "# create two random tensors\n",
    "A_vec = np.random.rand(2,2,2,2)\n",
    "B_vec = np.random.rand(2,2,2,2)\n"
   ]
  },
  {
   "cell_type": "markdown",
   "id": "c1975fd0",
   "metadata": {},
   "source": [
    "where we create two random rank-4 tensors. \n",
    "### Step 0\n",
    "We first need to initialized the desired tensor. Using Python this is done as\n",
    "#### Python code"
   ]
  },
  {
   "cell_type": "code",
   "execution_count": 2,
   "id": "f38e0858",
   "metadata": {},
   "outputs": [],
   "source": [
    "# import the library that allows us to deal with arrays efficiently\n",
    "import numpy as np\n",
    "\n",
    "# create two random tensors\n",
    "A_vec = np.random.rand(2,2,2,2)\n",
    "B_vec = np.random.rand(2,2,2,2)\n"
   ]
  },
  {
   "cell_type": "markdown",
   "id": "9a069efe",
   "metadata": {},
   "source": [
    "where we create two random rank-4 tensors. \n",
    "\n",
    "\n",
    "### Step 1\n",
    "We first perform a transposition of the the two tensors A and B in the following way\n",
    "\n",
    "```{image} /images/lecture2fig2.png\n",
    ":alt: def\n",
    ":class: bg-primary mb-1\n",
    ":width: 700px\n",
    ":align: center\n",
    "```\n",
    "where we obtained new A and B that have elements shuffled. The main idea is that need to shuttle (transpose or permute) the target contraction indices for the matrix A to right, while for the B matrix we have to shuttle (transpose or permute) the contraction indices to left.  \n",
    "\n",
    "#### Python code\n",
    "Lets get our feet wet by defining our first tensor in programming language Python!"
   ]
  },
  {
   "cell_type": "code",
   "execution_count": 3,
   "id": "9dd2b8a2",
   "metadata": {},
   "outputs": [],
   "source": [
    "# import the library that allows us to deal with arrays efficiently\n",
    "import numpy as np\n"
   ]
  },
  {
   "cell_type": "markdown",
   "id": "2b1769c9",
   "metadata": {},
   "source": [
    "### Step 2\n",
    "Afterwards we reshape the new A and B tensors in such a way \n",
    "\n",
    "```{image} /images/lecture2fig3.png\n",
    ":alt: def\n",
    ":class: bg-primary mb-1\n",
    ":width: 700px\n",
    ":align: center\n",
    "```\n",
    "Here the idea is that we \n",
    "\n",
    "#### Python code\n",
    "Lets get our feet wet by defining our first tensor in programming language Python!"
   ]
  },
  {
   "cell_type": "code",
   "execution_count": 4,
   "id": "8981a777",
   "metadata": {},
   "outputs": [],
   "source": [
    "# import the library that allows us to deal with arrays efficiently\n",
    "import numpy as np\n",
    "\n",
    "# define a vector of size 8 where the elements are integers between 1 and 8\n",
    "A_vec = np.array([1,2,3,4,5,6,7,8])\n",
    "\n",
    "\n"
   ]
  },
  {
   "cell_type": "markdown",
   "id": "f6c088a0",
   "metadata": {},
   "source": [
    "### Step 3\n",
    "After reshape we indices J have the same dimension and we can perform matrix-matrix multiplication over that index\n",
    "\n",
    "```{image} /images/lecture2fig4.png\n",
    ":alt: def\n",
    ":class: bg-primary mb-1\n",
    ":width: 700px\n",
    ":align: center\n",
    "```\n",
    "\n",
    "\n",
    "#### Python code\n",
    "Lets get our feet wet by defining our first tensor in programming language Python!"
   ]
  },
  {
   "cell_type": "code",
   "execution_count": 5,
   "id": "a279c212",
   "metadata": {},
   "outputs": [],
   "source": [
    "# import the library that allows us to deal with arrays efficiently\n",
    "import numpy as np\n",
    "\n",
    "# define a vector of size 8 where the elements are integers between 1 and 8\n",
    "A_vec = np.array([1,2,3,4,5,6,7,8])\n",
    "\n"
   ]
  },
  {
   "cell_type": "markdown",
   "id": "3a2854fc",
   "metadata": {},
   "source": [
    "### Step 4\n",
    "We do a final reshape of the tensor to the desired number of legs as\n",
    "\n",
    "```{image} /images/lecture2fig5.png\n",
    ":alt: def\n",
    ":class: bg-primary mb-1\n",
    ":width: 700px\n",
    ":align: center\n",
    "```\n",
    "\n",
    "\n",
    "#### Python code\n",
    "Lets get our feet wet by defining our first tensor in programming language Python!"
   ]
  },
  {
   "cell_type": "code",
   "execution_count": 6,
   "id": "740cd1f3",
   "metadata": {},
   "outputs": [],
   "source": [
    "# import the library that allows us to deal with arrays efficiently\n",
    "import numpy as np\n",
    "\n",
    "# define a vector of size 8 where the elements are integers between 1 and 8\n",
    "A_vec = np.array([1,2,3,4,5,6,7,8])\n",
    "\n"
   ]
  },
  {
   "cell_type": "markdown",
   "id": "8edb0997",
   "metadata": {},
   "source": [
    "### Symbolic representation of the algorithm\n",
    "Sometimes it is easier to take care of the indices symbolically rather graphical and the whole process can be represented as \n",
    "\n",
    "\n",
    "```{image} /images/lecture2fig6.png\n",
    ":alt: def\n",
    ":class: bg-primary mb-1\n",
    ":width: 700px\n",
    ":align: center\n",
    "```\n",
    "The final step is sometimes necessary depending on what kind of contraction and what kind of tensors are used. \n",
    "\n",
    "```{note}\n",
    "**Exercise1:** Contract one example where there is a violation of order of indices. \n",
    "\n",
    "\n",
    "\n",
    "```\n",
    "\n",
    "\n",
    "(automaticcontraction)=\n",
    "## Automatic Contraction Tool (Gven Evenbly)"
   ]
  }
 ],
 "metadata": {
  "jupytext": {
   "formats": "md:myst",
   "text_representation": {
    "extension": ".md",
    "format_name": "myst",
    "format_version": 0.13,
    "jupytext_version": "1.11.5"
   }
  },
  "kernelspec": {
   "display_name": "Python 3",
   "language": "python",
   "name": "python3"
  },
  "language_info": {
   "codemirror_mode": {
    "name": "ipython",
    "version": 3
   },
   "file_extension": ".py",
   "mimetype": "text/x-python",
   "name": "python",
   "nbconvert_exporter": "python",
   "pygments_lexer": "ipython3",
   "version": "3.10.13"
  },
  "source_map": [
   13,
   36,
   44,
   49,
   57,
   76,
   80,
   98,
   107,
   124,
   132,
   151,
   159
  ]
 },
 "nbformat": 4,
 "nbformat_minor": 5
}