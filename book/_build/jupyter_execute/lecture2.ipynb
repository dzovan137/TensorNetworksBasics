{
 "cells": [
  {
   "cell_type": "markdown",
   "id": "60a0c3f9",
   "metadata": {},
   "source": [
    "# Lecture 2\n",
    "\n",
    "In this lecture we perform  tensor network contraction explicity\n",
    "- {ref}`graphicalcontraction`\n",
    "- {ref}`symboliccontraction`\n",
    "\n",
    "\n",
    "\n",
    "(graphicalcontraction)=\n",
    "## Binary Tensor Contraction - Graphical\n",
    "\n",
    "Contraction algorithmically can be broken down to as series of steps. Lets look at the following example \n",
    "\n",
    "```{image} /images/lecture2fig1.png\n",
    ":alt: def\n",
    ":class: bg-primary mb-1\n",
    ":width: 700px\n",
    ":align: center\n",
    "```\n",
    "\n",
    "\n",
    "### Step 0\n",
    "We first need to initialized the desired tensor. Using Python this is done as\n",
    "#### Python code"
   ]
  },
  {
   "cell_type": "code",
   "execution_count": 1,
   "id": "198ce3ad",
   "metadata": {},
   "outputs": [],
   "source": [
    "# import the library that allows us to deal with arrays efficiently\n",
    "import numpy as np\n",
    "\n",
    "d = 2\n",
    "# create two random tensors\n",
    "A_vec = np.random.rand(d,d,d,d)\n",
    "B_vec = np.random.rand(d,d,d,d)\n"
   ]
  },
  {
   "cell_type": "markdown",
   "id": "80903009",
   "metadata": {},
   "source": [
    "where we (as an example) create two random rank-4 tensors. \n",
    "\n",
    "\n",
    "### Step 1\n",
    "We first perform a transposition of the the two tensors A and B in the following way\n",
    "\n",
    "```{image} /images/lecture2fig2.png\n",
    ":alt: def\n",
    ":class: bg-primary mb-1\n",
    ":width: 700px\n",
    ":align: center\n",
    "```\n",
    "where we obtained new A and B that have elements shuffled. The main idea is that need to shuttle (transpose or permute) the target contraction indices for the matrix A to right, while for the B matrix we have to shuttle (transpose or permute) the contraction indices to left.  \n",
    "\n",
    "#### Python code\n",
    "Lets get our feet wet by defining our first tensor in programming language Python!"
   ]
  },
  {
   "cell_type": "code",
   "execution_count": 2,
   "id": "e7fad71b",
   "metadata": {},
   "outputs": [],
   "source": [
    "# transpose the generate vectors\n",
    "A_vec1 = A_vec.transpose(0,2,1,3)\n",
    "B_vec1 = B_vec.transpose(0,3,1,2)\n"
   ]
  },
  {
   "cell_type": "markdown",
   "id": "fac7c6db",
   "metadata": {},
   "source": [
    "### Step 2\n",
    "Afterwards we reshape the new A and B tensors in such a way \n",
    "\n",
    "```{image} /images/lecture2fig3.png\n",
    ":alt: def\n",
    ":class: bg-primary mb-1\n",
    ":width: 700px\n",
    ":align: center\n",
    "```\n",
    "Here the idea is that we \n",
    "\n",
    "#### Python code\n",
    "Lets get our feet wet by defining our first tensor in programming language Python!"
   ]
  },
  {
   "cell_type": "code",
   "execution_count": 3,
   "id": "e3c682a9",
   "metadata": {},
   "outputs": [],
   "source": [
    "# reshaping the tensors\n",
    "A_vec2 = A_vec1.reshape(d**2,d**2)\n",
    "B_vec2 = B_vec1.reshape(d**2,d**2)\n"
   ]
  },
  {
   "cell_type": "markdown",
   "id": "a3163b76",
   "metadata": {},
   "source": [
    "### Step 3\n",
    "After reshape we indices J have the same dimension and we can perform matrix-matrix multiplication over that index\n",
    "\n",
    "```{image} /images/lecture2fig4.png\n",
    ":alt: def\n",
    ":class: bg-primary mb-1\n",
    ":width: 700px\n",
    ":align: center\n",
    "```\n",
    "\n",
    "\n",
    "#### Python code\n",
    "Lets get our feet wet by defining our first tensor in programming language Python!"
   ]
  },
  {
   "cell_type": "code",
   "execution_count": 4,
   "id": "3d5ede16",
   "metadata": {},
   "outputs": [],
   "source": [
    "# matrix-matrix multiplication\n",
    "C_prim = A_vec2 @ B_vec2\n"
   ]
  },
  {
   "cell_type": "markdown",
   "id": "43b12fcf",
   "metadata": {},
   "source": [
    "### Step 4\n",
    "We do a final reshape of the tensor to the desired number of legs as\n",
    "\n",
    "```{image} /images/lecture2fig5.png\n",
    ":alt: def\n",
    ":class: bg-primary mb-1\n",
    ":width: 700px\n",
    ":align: center\n",
    "```\n",
    "\n",
    "\n",
    "#### Python code\n",
    "Lets get our feet wet by defining our first tensor in programming language Python!"
   ]
  },
  {
   "cell_type": "code",
   "execution_count": 5,
   "id": "2234b83d",
   "metadata": {},
   "outputs": [
    {
     "name": "stdout",
     "output_type": "stream",
     "text": [
      "[[[[0.49418232 0.59760489]\n",
      "   [0.30126044 0.72847538]]\n",
      "\n",
      "  [[0.77151047 1.01379918]\n",
      "   [0.79968472 1.08790372]]]\n",
      "\n",
      "\n",
      " [[[1.02386795 1.27504409]\n",
      "   [1.00984369 1.4120872 ]]\n",
      "\n",
      "  [[1.01253094 1.33781417]\n",
      "   [1.08142084 1.38225316]]]]\n"
     ]
    }
   ],
   "source": [
    "# we need to keep wanted leg number of the tensor\n",
    "C = C_prim.reshape(d,d,d,d)\n",
    "print(C)"
   ]
  },
  {
   "cell_type": "markdown",
   "id": "748bf580",
   "metadata": {},
   "source": [
    "### Comparison with direct evaluation\n",
    "We can perform the contraction in its full glory, i.e. over all the involved indices as"
   ]
  },
  {
   "cell_type": "code",
   "execution_count": 6,
   "id": "c798ec97",
   "metadata": {},
   "outputs": [
    {
     "name": "stdout",
     "output_type": "stream",
     "text": [
      "[[[[0.49418232 0.59760489]\n",
      "   [0.30126044 0.72847538]]\n",
      "\n",
      "  [[0.77151047 1.01379918]\n",
      "   [0.79968472 1.08790372]]]\n",
      "\n",
      "\n",
      " [[[1.02386795 1.27504409]\n",
      "   [1.00984369 1.4120872 ]]\n",
      "\n",
      "  [[1.01253094 1.33781417]\n",
      "   [1.08142084 1.38225316]]]]\n"
     ]
    }
   ],
   "source": [
    "# define an empty 4-leg tensor\n",
    "C_direct = np.zeros([d,d,d,d])\n",
    "\n",
    "# loop over the indices\n",
    "for i in range(0,d):\n",
    "\tfor j in range(0,d):\n",
    "\t\tfor k in range(0,d):\n",
    "\t\t\tfor l in range(0,d):\n",
    "\n",
    "\t\t\t\t# perform the matrix-matrix multiplication explicitely\n",
    "\t\t\t\tfor m in range(0,d):\n",
    "\t\t\t\t\tfor n in range(0,d):\n",
    "\n",
    "\t\t\t\t\t\tC_direct[i,j,k,l] = C_direct[i,j,k,l] + A_vec[i,m,j,n]*B_vec[m,k,l,n]\n",
    "\t\t\t\t\n",
    "\t\t\t\t\n",
    "\n",
    "print(C_direct)"
   ]
  },
  {
   "cell_type": "markdown",
   "id": "ee3bab66",
   "metadata": {},
   "source": [
    "As we can see the outputs are the same! This implies that binary contraction is well defined and proper algorithmic procedure to perform tensor contraction \n",
    "\n",
    "```{note}\n",
    "**Exercise1:** Using python function *time* check how the binary tensor network contraction scales with increasing number of local dimension d as compared to the direct approach. Use *matplotlib* to present the scaling plots. \n",
    "\n",
    "```\n",
    "\n",
    "\n",
    "(symboliccontraction)=\n",
    "## Binary Tensor Contraction - Symbolic\n",
    "Sometimes it is easier to take care of the indices symbolically rather graphical and the whole process can be represented as \n",
    "\n",
    "\n",
    "```{image} /images/lecture2fig6.png\n",
    ":alt: def\n",
    ":class: bg-primary mb-1\n",
    ":width: 700px\n",
    ":align: center\n",
    "```\n",
    "The final step is sometimes necessary depending on what kind of contraction and what kind of tensors are used. \n",
    "\n",
    "```{note}\n",
    "**Exercise2:** Try to contract the following tensors A_{ijab} B_{kabl}. Verify that that in this case one has to perform an additional transposition (i.e. step 5) in order to obtain the correct result. \n",
    "\n",
    "\n",
    "```"
   ]
  }
 ],
 "metadata": {
  "jupytext": {
   "formats": "md:myst",
   "text_representation": {
    "extension": ".md",
    "format_name": "myst",
    "format_version": 0.13,
    "jupytext_version": "1.11.5"
   }
  },
  "kernelspec": {
   "display_name": "Python 3",
   "language": "python",
   "name": "python3"
  },
  "language_info": {
   "codemirror_mode": {
    "name": "ipython",
    "version": 3
   },
   "file_extension": ".py",
   "mimetype": "text/x-python",
   "name": "python",
   "nbconvert_exporter": "python",
   "pygments_lexer": "ipython3",
   "version": "3.10.13"
  },
  "source_map": [
   13,
   39,
   48,
   67,
   72,
   90,
   95,
   112,
   116,
   135,
   139,
   144,
   163
  ]
 },
 "nbformat": 4,
 "nbformat_minor": 5
}