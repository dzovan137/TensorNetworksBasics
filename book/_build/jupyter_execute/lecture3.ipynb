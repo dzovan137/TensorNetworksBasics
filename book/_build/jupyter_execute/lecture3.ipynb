{
 "cells": [
  {
   "cell_type": "markdown",
   "id": "859a1c81",
   "metadata": {},
   "source": [
    "# Lecture 3\n",
    "\n",
    "We now focus on the possible ways we can decompose tensors. In particular \n",
    "- {ref}`SVD`\n",
    "- {ref}`Spectral`\n",
    "- {ref}`QR`\n",
    "\n",
    "\n",
    "Some aspects of https://github.com/dzovan137/MarinBukovNumerics_MSc-school_notebooks/blob/main/.quant22_notebooks/tensor_networks/solution_1_basics.ipynb\n",
    "\n",
    "(SVD)=\n",
    "## SVD decomposition\n",
    "\n",
    "\n",
    "(Spectral)=\n",
    "## Spectral decomposition\n",
    "\n",
    "\n",
    "(QR)=\n",
    "## QR decomposition"
   ]
  }
 ],
 "metadata": {
  "jupytext": {
   "formats": "md:myst",
   "text_representation": {
    "extension": ".md",
    "format_name": "myst",
    "format_version": 0.13,
    "jupytext_version": "1.11.5"
   }
  },
  "kernelspec": {
   "display_name": "Python 3",
   "language": "python",
   "name": "python3"
  },
  "language_info": {
   "codemirror_mode": {
    "name": "ipython",
    "version": 3
   },
   "file_extension": ".py",
   "mimetype": "text/x-python",
   "name": "python",
   "nbconvert_exporter": "python",
   "pygments_lexer": "ipython3",
   "version": "3.10.13"
  },
  "source_map": [
   13
  ]
 },
 "nbformat": 4,
 "nbformat_minor": 5
}