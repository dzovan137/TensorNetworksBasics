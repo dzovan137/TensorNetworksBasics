{
 "cells": [
  {
   "cell_type": "markdown",
   "id": "1a2394be",
   "metadata": {},
   "source": [
    "# Lecture 1 \n",
    "\n",
    "In this lecture we define the concept of a \n",
    "- {ref}`def`\n",
    "\n",
    "and introduce the two basic operations such as\n",
    "- {ref}`reshape`\n",
    "- {ref}`permutation`\n",
    "\n",
    "(def)=\n",
    "## Tensors and Tensor Networks \n",
    "\n",
    "**Tensors** are multi-dimensional arrays of numbers. Diagrammatically we denote a tensor as a filled in solid shape with legs. The legs of a tensor represent the order (rank) of the tensor. In particular, we denote\n",
    "\n",
    "```{image} /images/def.png\n",
    ":alt: def\n",
    ":class: bg-primary mb-1\n",
    ":width: 700px\n",
    ":align: center\n",
    "```\n",
    "\n",
    "**Tensor networks** are comprised of multiple tensors, where the shared legs denote a *contraction* (or summation) over this index. Below we make the simplest possible example of a tensor network.  \n",
    " \n",
    "```{image} /images/fig1.png\n",
    ":alt: def\n",
    ":class: bg-primary mb-1\n",
    ":width: 700px\n",
    ":align: center\n",
    "```\n",
    "More specifically, this tensor network implies a contraction and if we take the example of square matrices of size n by n we have\n",
    "```{image} /images/fig2.png\n",
    ":alt: def\n",
    ":class: bg-primary mb-1\n",
    ":width: 700px\n",
    ":align: center\n",
    "```\n",
    "So we see that that tensor networks are nothing but a graphical language to tell us to do matrix-matrix multiplication. So each tensor network can be written down as a summation over selected indices. \n",
    "\n",
    "We can now provide further examples such as the one that involves more legs. In case of three leg tensor we can have.\n",
    "\n",
    "```{image} /images/fig3.png\n",
    ":alt: def\n",
    ":class: bg-primary mb-1\n",
    ":width: 700px\n",
    ":align: center\n",
    "```\n",
    "\n",
    "\n",
    "#### Python code\n",
    "Lets get our feet wet by defining our first tensor in programming language Python!"
   ]
  },
  {
   "cell_type": "code",
   "execution_count": 1,
   "id": "8661a0ad",
   "metadata": {},
   "outputs": [
    {
     "name": "stdout",
     "output_type": "stream",
     "text": [
      "A vector =  [1 2 3 4 5 6 7 8]\n",
      "A tensor = \n",
      "[[[1 2]\n",
      "  [3 4]]\n",
      "\n",
      " [[5 6]\n",
      "  [7 8]]]\n"
     ]
    }
   ],
   "source": [
    "# import the library that allows us to deal with arrays efficiently\n",
    "import numpy as np\n",
    "\n",
    "# define a vector of size 8 where the elements are integers between 1 and 8\n",
    "A_vec = np.array([1,2,3,4,5,6,7,8])\n",
    "\n",
    "# redefine the vector into a 3-rank tensors\n",
    "d = 2\n",
    "A_ten = A_vec.reshape(d,d,d)\n",
    "\n",
    "print(\"A vector = \", A_vec)\n",
    "print(\"A tensor = \")\n",
    "print(A_ten)\n"
   ]
  },
  {
   "cell_type": "markdown",
   "id": "d62caec3",
   "metadata": {},
   "source": [
    "So what have we actually done? In particular\n",
    "\n",
    "```{image} /images/fig4.png\n",
    ":alt: def\n",
    ":class: bg-primary mb-1\n",
    ":width: 700px\n",
    ":align: center\n",
    "```\n",
    "\n",
    "In this case one is able to visualize the values using 3 dimensions as there are only 3 legs (directions), but it is easy to see how this extends to multiple legs. One can think of each of the legs to represent the particular qubit! We shall illustrate that later.\n",
    "\n",
    "```{note}\n",
    "The given example of a vector is useful in the context of quantum information theory and quantum many-body physics. In particular, we have selected the approprite partition of the vector into a tensor with legs of dimension d = 2 (local Hilbert space dimension). \n",
    "\n",
    "**Exercise:** Define the correct reshape for\n",
    "- any integer n qubits of local dimension d = 2 \n",
    "- any arbitrary local Hilbert space dimension, e.g. qudits d = 3 \n",
    "\n",
    "Provide graphical representation of the process. \n",
    "\n",
    "```\n",
    "(reshape)=\n",
    "## Reshape\n",
    "The examples we provided above actually involve reshaping tensors. We can not only reshape vectors into tensor, but <u>we can reshape any tensor of any rank in any other ranked tensor</u> under the condition that the number of total entries (elements) does not change! Reshaping of a tensor is than just a different organization of smaller matrices, and does not lose us any initial information stored. \n",
    "\n",
    "Next, we provide the simplest example of a reshaped tensor with the accompaning code. \n",
    "\n",
    "\n",
    "```{image} /images/fig6.png\n",
    ":alt: def\n",
    ":class: bg-primary mb-1\n",
    ":width: 700px\n",
    ":align: center\n",
    "```\n",
    "\n",
    "\n",
    "### Python code"
   ]
  },
  {
   "cell_type": "code",
   "execution_count": 2,
   "id": "9209c9a2",
   "metadata": {},
   "outputs": [
    {
     "name": "stdout",
     "output_type": "stream",
     "text": [
      "A tensor reshaped =\n",
      "[[1 2 3 4]\n",
      " [5 6 7 8]]\n"
     ]
    }
   ],
   "source": [
    "# reshape of a tensor from a 3 leg to 2 leg\n",
    "A_ten_reshape = A_vec.reshape(d,d*d)\n",
    "print(\"A tensor reshaped =\")\n",
    "print(A_ten_reshape)\n",
    "\n"
   ]
  },
  {
   "cell_type": "markdown",
   "id": "6cc117ee",
   "metadata": {},
   "source": [
    "```{note}\n",
    "**Exercise:** Starting from a tensor with 7 legs and d = 2, reshape this tensor into one with 4 legs where\n",
    "\n",
    "- second and third \n",
    "- fourth and fifth \n",
    "- sixth and seventh \n",
    "\n",
    "are reshaped together. Provide graphical representation of the process. \n",
    "\n",
    "What happens if we want to reshape not neighboring legs? (next chapter answers this question)\n",
    "\n",
    "```\n",
    "\n",
    "(permutation)=\n",
    "## Permutation\n",
    "It is useful to permute (\"transpose\") the legs of a tensor. In particular, we want to switch the positions of certain legs.  The permutation implies the following operation on tensors. \n",
    "\n",
    "```{image} /images/fig5.png\n",
    ":alt: def\n",
    ":class: bg-primary mb-1\n",
    ":width: 700px\n",
    ":align: center\n",
    "```\n",
    "\n",
    "### Python code\n",
    "In python code this is"
   ]
  },
  {
   "cell_type": "code",
   "execution_count": 3,
   "id": "54d4b590",
   "metadata": {},
   "outputs": [
    {
     "name": "stdout",
     "output_type": "stream",
     "text": [
      "A tensor transposed = \n",
      "[[[1 3]\n",
      "  [2 4]]\n",
      "\n",
      " [[5 7]\n",
      "  [6 8]]]\n"
     ]
    }
   ],
   "source": [
    "# permutation (transposition)\n",
    "A_ten_trans = A_ten.transpose(0,2,1)\n",
    "\n",
    "print(\"A tensor transposed = \")\n",
    "print(A_ten_trans)\n"
   ]
  },
  {
   "cell_type": "markdown",
   "id": "4d62651f",
   "metadata": {},
   "source": [
    "Notice that we have just shuffled some elements of the tensor around. All the values are still there, just in a different position as compared to our original tensor given above. Note that the transposition in Python start from 0 index, and the logic is obvious from the construction. In the transposition array we only have assign from where the old leg comes, and put into the order where we want it to be. Another example of the transposition is given below. \n",
    "\n",
    "```{image} /images/fig7.png\n",
    ":alt: def\n",
    ":class: bg-primary mb-1\n",
    ":width: 700px\n",
    ":align: center\n",
    "```\n",
    "\n",
    "```{note}\n",
    "**Exercise1:** Provide the python code for example of 4 legs for the example above. \n",
    "\n",
    "\n",
    "**Exercise2:** Provide the python code for the transposing the following tensor A_{123456789} = A_{693751482}\n",
    "```"
   ]
  }
 ],
 "metadata": {
  "jupytext": {
   "formats": "md:myst",
   "text_representation": {
    "extension": ".md",
    "format_name": "myst",
    "format_version": 0.13,
    "jupytext_version": "1.11.5"
   }
  },
  "kernelspec": {
   "display_name": "Python 3",
   "language": "python",
   "name": "python3"
  },
  "language_info": {
   "codemirror_mode": {
    "name": "ipython",
    "version": 3
   },
   "file_extension": ".py",
   "mimetype": "text/x-python",
   "name": "python",
   "nbconvert_exporter": "python",
   "pygments_lexer": "ipython3",
   "version": "3.10.13"
  },
  "source_map": [
   13,
   67,
   82,
   123,
   131,
   159,
   167
  ]
 },
 "nbformat": 4,
 "nbformat_minor": 5
}